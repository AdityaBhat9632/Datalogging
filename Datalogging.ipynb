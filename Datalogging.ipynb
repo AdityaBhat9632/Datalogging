{
 "cells": [
  {
   "cell_type": "code",
   "execution_count": 1,
   "metadata": {},
   "outputs": [
    {
     "name": "stdout",
     "output_type": "stream",
     "text": [
      "Do you want to Continue (y/n)y\n",
      "Enter Customers Name Aditya\n",
      "Enter Contact Number 9008197970\n",
      "Enter The place  Dwd\n",
      "Enter the temperature in Celcius 97\n",
      "     Name     Contact Origin Temperature\n",
      "0  Aditya  9008197970    Dwd          97\n",
      "Do you want to Continue (y/n)Y\n",
      "Enter Customers Name Shridatta\n",
      "Enter Contact Number 6360639940\n",
      "Enter The place  Hubli\n",
      "Enter the temperature in Celcius 98\n",
      "        Name     Contact Origin Temperature\n",
      "0     Aditya  9008197970    Dwd          97\n",
      "1  Shridatta  6360639940  Hubli          98\n",
      "Do you want to Continue (y/n)n\n",
      "Enter the File Name You want to Save 20_05_2021\n"
     ]
    }
   ],
   "source": [
    "import pandas as pd\n",
    "\n",
    "df = pd.DataFrame(columns=[\"Name\", \"Contact\", \"Origin\",\"Temperature\"])\n",
    "while(True):\n",
    "  parts = input(\"Do you want to Continue (y/n)\")\n",
    "  if parts.lower()== 'n':\n",
    "    break\n",
    "\n",
    "  name = input(\"Enter Customers Name \")\n",
    "  contact = input(\"Enter Contact Number \")\n",
    "  origin = input(\"Enter The place  \")\n",
    "  temp=input(\"Enter the temperature in Celcius \")\n",
    "\n",
    "  df1 = pd.DataFrame(data=[[name,contact,origin,temp]],columns=[\"Name\", \"Contact\", \"Origin\",\"Temperature\"])\n",
    "  df = pd.concat([df,df1], axis=0)\n",
    "\n",
    "  df.index = range(len(df.index))\n",
    "  print (df)\n",
    "f_name=input(\"Enter the File Name You want to Save \")\n",
    "df.to_csv(\"{}.csv\".format(f_name))"
   ]
  },
  {
   "cell_type": "code",
   "execution_count": null,
   "metadata": {},
   "outputs": [],
   "source": []
  }
 ],
 "metadata": {
  "kernelspec": {
   "display_name": "Python 3",
   "language": "python",
   "name": "python3"
  },
  "language_info": {
   "codemirror_mode": {
    "name": "ipython",
    "version": 3
   },
   "file_extension": ".py",
   "mimetype": "text/x-python",
   "name": "python",
   "nbconvert_exporter": "python",
   "pygments_lexer": "ipython3",
   "version": "3.8.5"
  }
 },
 "nbformat": 4,
 "nbformat_minor": 4
}
